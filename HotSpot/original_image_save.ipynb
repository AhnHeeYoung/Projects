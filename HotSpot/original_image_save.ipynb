{
 "cells": [
  {
   "cell_type": "code",
   "execution_count": 1,
   "metadata": {},
   "outputs": [],
   "source": [
    "import argparse\n",
    "import glob\n",
    "import os\n",
    "import pathlib\n",
    "import logging\n",
    "\n",
    "from PIL import Image\n",
    "\n",
    "import cv2\n",
    "import numpy as np\n",
    "import openslide\n",
    "import torch\n",
    "import torch.nn as nn\n",
    "\n",
    "import torchvision\n",
    "import torchvision.models as models\n",
    "from torch.utils.data import DataLoader, Dataset\n",
    "import torchvision.transforms as transforms\n",
    "\n",
    "from skimage.color import rgb2gray\n",
    "import matplotlib.pyplot as plt\n",
    "from tifffile import memmap\n",
    "\n",
    "import staintools\n",
    "\n",
    "import pickle"
   ]
  },
  {
   "cell_type": "code",
   "execution_count": 7,
   "metadata": {},
   "outputs": [
    {
     "name": "stdout",
     "output_type": "stream",
     "text": [
      "103584 92975\n",
      "199200 92860\n",
      "119520 80757\n",
      "107568 65480\n"
     ]
    },
    {
     "name": "stderr",
     "output_type": "stream",
     "text": [
      "ERROR:root:Internal Python error in the inspect module.\n",
      "Below is the traceback from this internal error.\n",
      "\n",
      "\n",
      "KeyboardInterrupt\n",
      "\n"
     ]
    }
   ],
   "source": [
    "for num in range(1, 11):\n",
    "\n",
    "    list_ = ['Page-{}'.format(num)]\n",
    "\n",
    "    for idx in list_:\n",
    "\n",
    "        image_path = sorted(glob.glob('../../../../Projects/Pathology/datasets/HE_IHC/Stomach/{}/*.svs'.format(idx)))\n",
    "        xml_path = sorted(glob.glob('../../../../Projects/Pathology/datasets/HE_IHC/Stomach/{}/*.xml'.format(idx)))\n",
    "\n",
    "        patient_name = [i.split('/')[-1].split('.')[0] for i in image_path]\n",
    "\n",
    "\n",
    "        for num_ in range(len(patient_name)):\n",
    "\n",
    "            patient = patient_name[num_]\n",
    "\n",
    "            patient_svs_path = image_path[num_]\n",
    "            patient_xml_path = xml_path[num_]\n",
    "\n",
    "\n",
    "            temp = openslide.OpenSlide(patient_svs_path)\n",
    "\n",
    "            width = temp.dimensions[0]\n",
    "            height = temp.dimensions[1]\n",
    "            \n",
    "            image = temp.read_region((0, 0), 0, (width, height))\n",
    "            image = np.array(image)[:, :, :3]\n",
    "            image = cv2.resize(image, None, fx=1/64, fy=1/64)\n",
    "            \n",
    "            cv2.imwrite('result_npy/image/Page-{}/{}.jpg'.format(num, patient), cv2.cvtColor(image, cv2.COLOR_BGR2RGB))"
   ]
  },
  {
   "cell_type": "code",
   "execution_count": null,
   "metadata": {},
   "outputs": [],
   "source": []
  }
 ],
 "metadata": {
  "kernelspec": {
   "display_name": "Python 3",
   "language": "python",
   "name": "python3"
  },
  "language_info": {
   "codemirror_mode": {
    "name": "ipython",
    "version": 3
   },
   "file_extension": ".py",
   "mimetype": "text/x-python",
   "name": "python",
   "nbconvert_exporter": "python",
   "pygments_lexer": "ipython3",
   "version": "3.7.9"
  }
 },
 "nbformat": 4,
 "nbformat_minor": 4
}
